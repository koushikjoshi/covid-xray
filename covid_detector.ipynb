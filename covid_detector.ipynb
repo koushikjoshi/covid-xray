{
  "nbformat": 4,
  "nbformat_minor": 0,
  "metadata": {
    "accelerator": "GPU",
    "colab": {
      "name": "covid_detector.ipynb",
      "provenance": [],
      "collapsed_sections": []
    },
    "kernelspec": {
      "display_name": "Python 3",
      "name": "python3"
    }
  },
  "cells": [
    {
      "cell_type": "code",
      "metadata": {
        "id": "_ddMU7-X_wb6",
        "colab": {
          "base_uri": "https://localhost:8080/"
        },
        "outputId": "c87b2ee2-a69a-4b5f-ea85-7232bff7fa9f"
      },
      "source": [
        "!wget http://cb.lk/covid_19"
      ],
      "execution_count": null,
      "outputs": [
        {
          "output_type": "stream",
          "text": [
            "--2020-11-06 16:16:11--  http://cb.lk/covid_19\n",
            "Resolving cb.lk (cb.lk)... 159.89.170.74\n",
            "Connecting to cb.lk (cb.lk)|159.89.170.74|:80... connected.\n",
            "HTTP request sent, awaiting response... 301 Moved Permanently\n",
            "Location: https://cb.lk/covid_19 [following]\n",
            "--2020-11-06 16:16:12--  https://cb.lk/covid_19\n",
            "Connecting to cb.lk (cb.lk)|159.89.170.74|:443... connected.\n",
            "HTTP request sent, awaiting response... 302 Found\n",
            "Location: https://www.dropbox.com/s/7rjw6oet4za01op/CovidDataset-20200427T133042Z-001.zip?dl=0 [following]\n",
            "--2020-11-06 16:16:13--  https://www.dropbox.com/s/7rjw6oet4za01op/CovidDataset-20200427T133042Z-001.zip?dl=0\n",
            "Resolving www.dropbox.com (www.dropbox.com)... 162.125.4.1, 2620:100:601c:1::a27d:601\n",
            "Connecting to www.dropbox.com (www.dropbox.com)|162.125.4.1|:443... connected.\n",
            "HTTP request sent, awaiting response... 301 Moved Permanently\n",
            "Location: /s/raw/7rjw6oet4za01op/CovidDataset-20200427T133042Z-001.zip [following]\n",
            "--2020-11-06 16:16:13--  https://www.dropbox.com/s/raw/7rjw6oet4za01op/CovidDataset-20200427T133042Z-001.zip\n",
            "Reusing existing connection to www.dropbox.com:443.\n",
            "HTTP request sent, awaiting response... 302 Found\n",
            "Location: https://uc569c313c72c1ec7a9161b09fb6.dl.dropboxusercontent.com/cd/0/inline/BCs5nsDaRrVOFxlKxH5gve8IIQgMtCs7sKpBN4mlmpLDhraSYtGus1hk4ctzG5XWzJw445_QTqCmJgpNL8IVV1a4s8BlaK7UEiVA9qX4jiftn-KWEA4ZFFHmGIM4GtWQugU/file# [following]\n",
            "--2020-11-06 16:16:13--  https://uc569c313c72c1ec7a9161b09fb6.dl.dropboxusercontent.com/cd/0/inline/BCs5nsDaRrVOFxlKxH5gve8IIQgMtCs7sKpBN4mlmpLDhraSYtGus1hk4ctzG5XWzJw445_QTqCmJgpNL8IVV1a4s8BlaK7UEiVA9qX4jiftn-KWEA4ZFFHmGIM4GtWQugU/file\n",
            "Resolving uc569c313c72c1ec7a9161b09fb6.dl.dropboxusercontent.com (uc569c313c72c1ec7a9161b09fb6.dl.dropboxusercontent.com)... 162.125.6.15, 2620:100:601c:15::a27d:60f\n",
            "Connecting to uc569c313c72c1ec7a9161b09fb6.dl.dropboxusercontent.com (uc569c313c72c1ec7a9161b09fb6.dl.dropboxusercontent.com)|162.125.6.15|:443... connected.\n",
            "HTTP request sent, awaiting response... 302 Found\n",
            "Location: /cd/0/inline2/BCtx9sry6_4_SUHNkG9p9CV6Bam9nEGRTmKyHXRoP7NRW_B6nRUt5XtHS28gI3VgLVHatm-Biy2HXKu8by-6S9KoM3AGsfUbQdr018KmSqeS3AmNAUjoWjVQcSSDOmbX3Niht2THTs9N7KKz7qlB7TCwgCBMCJTXPYuOUtjw65siLVkE4gOMrlZKyZrVidJWUt2Zq7euQlAarQQHPtOMg0tEmsvHGDjYx9Ex6Sm3cfLlnuo-I9FGycUvpc1j5xJpm3eODM7TgjMh1NY71ZISgjBdGhelW9ym-mpEvFKl7Zxy8IZ2cBOYR0EB4WI4G5K6Iqe65JE-pIe5Ki998obg3C3_vQ0b63pvilC3kBMOBhFh4w/file [following]\n",
            "--2020-11-06 16:16:14--  https://uc569c313c72c1ec7a9161b09fb6.dl.dropboxusercontent.com/cd/0/inline2/BCtx9sry6_4_SUHNkG9p9CV6Bam9nEGRTmKyHXRoP7NRW_B6nRUt5XtHS28gI3VgLVHatm-Biy2HXKu8by-6S9KoM3AGsfUbQdr018KmSqeS3AmNAUjoWjVQcSSDOmbX3Niht2THTs9N7KKz7qlB7TCwgCBMCJTXPYuOUtjw65siLVkE4gOMrlZKyZrVidJWUt2Zq7euQlAarQQHPtOMg0tEmsvHGDjYx9Ex6Sm3cfLlnuo-I9FGycUvpc1j5xJpm3eODM7TgjMh1NY71ZISgjBdGhelW9ym-mpEvFKl7Zxy8IZ2cBOYR0EB4WI4G5K6Iqe65JE-pIe5Ki998obg3C3_vQ0b63pvilC3kBMOBhFh4w/file\n",
            "Reusing existing connection to uc569c313c72c1ec7a9161b09fb6.dl.dropboxusercontent.com:443.\n",
            "HTTP request sent, awaiting response... 200 OK\n",
            "Length: 140830621 (134M) [application/zip]\n",
            "Saving to: ‘covid_19.1’\n",
            "\n",
            "covid_19.1          100%[===================>] 134.31M   107MB/s    in 1.3s    \n",
            "\n",
            "2020-11-06 16:16:16 (107 MB/s) - ‘covid_19.1’ saved [140830621/140830621]\n",
            "\n"
          ],
          "name": "stdout"
        }
      ]
    },
    {
      "cell_type": "code",
      "metadata": {
        "id": "XYe2fYGPEGgx",
        "colab": {
          "base_uri": "https://localhost:8080/"
        },
        "outputId": "b8f59c54-f33a-47df-db38-f5516a2b3218"
      },
      "source": [
        "!unzip covid_19"
      ],
      "execution_count": null,
      "outputs": [
        {
          "output_type": "stream",
          "text": [
            "Archive:  covid_19\n",
            "replace CovidDataset/Val/Covid/88de9d8c39e946abd495b37cd07d89e5-6531-0.jpg? [y]es, [n]o, [A]ll, [N]one, [r]ename: A\n",
            "  inflating: CovidDataset/Val/Covid/88de9d8c39e946abd495b37cd07d89e5-6531-0.jpg  \n",
            "  inflating: CovidDataset/Val/Covid/covid-19-pneumonia-8.jpg  \n",
            "  inflating: CovidDataset/Val/Covid/85E52EB3-56E9-4D67-82DA-DEA247C82886.jpeg  \n",
            "  inflating: CovidDataset/Val/Covid/4-x-day1.jpg  \n",
            "  inflating: CovidDataset/Val/Covid/covid-19-pneumonia-53.jpg  \n",
            "  inflating: CovidDataset/Val/Covid/4e43e48d52c9e2d4c6c1fb9bc1544f_jumbo.jpeg  \n",
            "  inflating: CovidDataset/Val/Covid/covid-19-pneumonia-35-1.jpg  \n",
            "  inflating: CovidDataset/Val/Covid/53EC07C9-5CC6-4BE4-9B6F-D7B0D72AAA7E.jpeg  \n",
            "  inflating: CovidDataset/Val/Covid/6CB4EFC6-68FA-4CD5-940C-BEFA8DAFE9A7.jpeg  \n",
            "  inflating: CovidDataset/Val/Covid/58cb9263f16e94305c730685358e4e_jumbo.jpeg  \n",
            "  inflating: CovidDataset/Val/Covid/6b3bdbc31f65230b8cdcc3cef5f8ba8a-40ac-0.jpg  \n",
            "  inflating: CovidDataset/Val/Covid/auntminnie-d-2020_01_28_23_51_6665_2020_01_28_Vietnam_coronavirus.jpeg  \n",
            "  inflating: CovidDataset/Val/Covid/6b44464d-73a7-4cf3-bbb6-ffe7168300e3.annot.original.jpeg  \n",
            "  inflating: CovidDataset/Val/Covid/88de9d8c39e946abd495b37cd07d89e5-2ee6-0.jpg  \n",
            "  inflating: CovidDataset/Val/Covid/31BA3780-2323-493F-8AED-62081B9C383B.jpeg  \n",
            "  inflating: CovidDataset/Val/Covid/B2D20576-00B7-4519-A415-72DE29C90C34.jpeg  \n",
            "  inflating: CovidDataset/Val/Covid/6C94A287-C059-46A0-8600-AFB95F4727B7.jpeg  \n",
            "  inflating: CovidDataset/Train/Covid/1-s2.0-S1684118220300682-main.pdf-003-b2.png  \n",
            "  inflating: CovidDataset/Val/Covid/41591_2020_819_Fig1_HTML.webp-day5.png  \n",
            "  inflating: CovidDataset/Val/Covid/41591_2020_819_Fig1_HTML.webp-day10.png  \n",
            "  inflating: CovidDataset/Train/Covid/1-s2.0-S1684118220300682-main.pdf-003-b1.png  \n",
            "  inflating: CovidDataset/Val/Covid/16654_2_1.jpg  \n",
            "  inflating: CovidDataset/Train/Covid/nCoV-radiol.2020200269.fig1-day7.jpeg  \n",
            "  inflating: CovidDataset/Val/Covid/auntminnie-c-2020_01_28_23_51_6665_2020_01_28_Vietnam_coronavirus.jpeg  \n",
            "  inflating: CovidDataset/Train/Covid/7-fatal-covid19.jpg  \n",
            "  inflating: CovidDataset/Train/Covid/auntminnie-b-2020_01_28_23_51_6665_2020_01_28_Vietnam_coronavirus.jpeg  \n",
            "  inflating: CovidDataset/Train/Normal/NORMAL2-IM-0986-0001.jpeg  \n",
            "  inflating: CovidDataset/Train/Normal/IM-0332-0001.jpeg  \n",
            "  inflating: CovidDataset/Train/Covid/extubation-13.jpg  \n",
            "  inflating: CovidDataset/Val/Covid/covid-19-pneumonia-35-2.jpg  \n",
            "  inflating: CovidDataset/Train/Normal/NORMAL2-IM-1337-0001.jpeg  \n",
            "  inflating: CovidDataset/Val/Covid/covid-19-pneumonia-12.jpg  \n",
            "  inflating: CovidDataset/Train/Normal/IM-0644-0001-0002.jpeg  \n",
            "  inflating: CovidDataset/Train/Covid/ryct.2020200034.fig5-day7.jpeg  \n",
            "  inflating: CovidDataset/Val/Covid/7AF6C1AF-D249-4BD2-8C26-449304105D03.jpeg  \n",
            "  inflating: CovidDataset/Train/Covid/covid-19-pneumonia-15-PA.jpg  \n",
            "  inflating: CovidDataset/Train/Covid/1-s2.0-S1684118220300608-main.pdf-002.jpg  \n",
            "  inflating: CovidDataset/Train/Normal/IM-0528-0001.jpeg  \n",
            "  inflating: CovidDataset/Train/Covid/80446565-E090-4187-A031-9D3CEAA586C8.jpeg  \n",
            "  inflating: CovidDataset/Train/Covid/1-s2.0-S0929664620300449-gr2_lrg-d.jpg  \n",
            "  inflating: CovidDataset/Train/Covid/covid-19-pneumonia-bilateral.jpg  \n",
            "  inflating: CovidDataset/Train/Normal/NORMAL2-IM-1020-0001-0001.jpeg  \n",
            "  inflating: CovidDataset/Train/Covid/E63574A7-4188-4C8D-8D17-9D67A18A1AFA.jpeg  \n",
            "  inflating: CovidDataset/Train/Normal/IM-0327-0001.jpeg  \n",
            "  inflating: CovidDataset/Train/Covid/AR-1.jpg  \n",
            "  inflating: CovidDataset/Train/Covid/F2DE909F-E19C-4900-92F5-8F435B031AC6.jpeg  \n",
            "  inflating: CovidDataset/Val/Normal/NORMAL2-IM-0851-0001.jpeg  \n",
            "  inflating: CovidDataset/Train/Covid/covid-19-pneumonia-2.jpg  \n",
            "  inflating: CovidDataset/Train/Normal/IM-0539-0001.jpeg  \n",
            "  inflating: CovidDataset/Train/Normal/IM-0495-0001.jpeg  \n",
            "  inflating: CovidDataset/Train/Normal/IM-0533-0001-0002.jpeg  \n",
            "  inflating: CovidDataset/Train/Normal/IM-0724-0001.jpeg  \n",
            "  inflating: CovidDataset/Train/Covid/1.CXRCTThoraximagesofCOVID-19fromSingapore.pdf-001-fig2a.png  \n",
            "  inflating: CovidDataset/Train/Covid/1-s2.0-S0140673620303706-fx1_lrg.jpg  \n",
            "  inflating: CovidDataset/Train/Normal/IM-0491-0001-0002.jpeg  \n",
            "  inflating: CovidDataset/Train/Covid/covid-19-pneumonia-58-day-9.jpg  \n",
            "  inflating: CovidDataset/Train/Normal/IM-0555-0001.jpeg  \n",
            "  inflating: CovidDataset/Train/Covid/1.CXRCTThoraximagesofCOVID-19fromSingapore.pdf-000-fig1b.png  \n",
            "  inflating: CovidDataset/Train/Normal/IM-0326-0001.jpeg  \n",
            "  inflating: CovidDataset/Train/Covid/covid-19-caso-70-1-PA.jpg  \n",
            "  inflating: CovidDataset/Train/Covid/1.CXRCTThoraximagesofCOVID-19fromSingapore.pdf-001-fig2b.png  \n",
            "  inflating: CovidDataset/Val/Normal/NORMAL2-IM-0730-0001.jpeg  \n",
            "  inflating: CovidDataset/Train/Normal/IM-0451-0001.jpeg  \n",
            "  inflating: CovidDataset/Val/Covid/7C69C012-7479-493F-8722-ABC29C60A2DD.jpeg  \n",
            "  inflating: CovidDataset/Train/Covid/16660_2_1.jpg  \n",
            "  inflating: CovidDataset/Train/Covid/1-s2.0-S1684118220300608-main.pdf-001.jpg  \n",
            "  inflating: CovidDataset/Train/Covid/kjr-21-e24-g003-l-a.jpg  \n",
            "  inflating: CovidDataset/Train/Covid/nejmoa2001191_f1-PA.jpeg  \n",
            "  inflating: CovidDataset/Train/Normal/IM-0534-0001.jpeg  \n",
            "  inflating: CovidDataset/Train/Covid/kjr-21-e24-g002-l-a.jpg  \n",
            "  inflating: CovidDataset/Train/Covid/covid-19-pneumonia-38-pa.jpg  \n",
            "  inflating: CovidDataset/Train/Normal/NORMAL2-IM-0529-0001.jpeg  \n",
            "  inflating: CovidDataset/Train/Covid/9C34AF49-E589-44D5-92D3-168B3B04E4A6.jpeg  \n",
            "  inflating: CovidDataset/Train/Normal/IM-0221-0001.jpeg  \n",
            "  inflating: CovidDataset/Val/Normal/NORMAL2-IM-1191-0001.jpeg  \n",
            "  inflating: CovidDataset/Train/Normal/NORMAL2-IM-0831-0001.jpeg  \n",
            "  inflating: CovidDataset/Train/Normal/IM-0500-0001.jpeg  \n",
            "  inflating: CovidDataset/Val/Normal/NORMAL2-IM-1228-0001.jpeg  \n",
            "  inflating: CovidDataset/Train/Covid/extubation-1.jpg  \n",
            "  inflating: CovidDataset/Train/Covid/covid-19-infection-exclusive-gastrointestinal-symptoms-l.png  \n",
            "  inflating: CovidDataset/Val/Normal/NORMAL2-IM-1037-0001.jpeg  \n",
            "  inflating: CovidDataset/Train/Normal/NORMAL2-IM-0956-0001.jpeg  \n",
            "  inflating: CovidDataset/Train/Normal/NORMAL2-IM-0847-0001.jpeg  \n",
            "  inflating: CovidDataset/Train/Normal/IM-0389-0001.jpeg  \n",
            "  inflating: CovidDataset/Train/Normal/IM-0660-0001-0001.jpeg  \n",
            "  inflating: CovidDataset/Train/Covid/16672_1_1.jpg  \n",
            "  inflating: CovidDataset/Train/Normal/IM-0700-0001.jpeg  \n",
            "  inflating: CovidDataset/Train/Normal/NORMAL2-IM-1305-0001.jpeg  \n",
            "  inflating: CovidDataset/Train/Covid/16660_4_1.jpg  \n",
            "  inflating: CovidDataset/Val/Covid/353889E0-A1E8-4F9E-A0B8-F24F36BCFBFB.jpeg  \n",
            "  inflating: CovidDataset/Train/Covid/covid-19-pneumonia-22-day2-pa.png  \n",
            "  inflating: CovidDataset/Train/Normal/IM-0472-0001.jpeg  \n",
            "  inflating: CovidDataset/Train/Normal/NORMAL2-IM-1202-0001.jpeg  \n",
            "  inflating: CovidDataset/Train/Normal/NORMAL2-IM-1188-0001.jpeg  \n",
            "  inflating: CovidDataset/Train/Covid/2C26F453-AF3B-4517-BB9E-802CF2179543.jpeg  \n",
            "  inflating: CovidDataset/Train/Normal/NORMAL2-IM-1290-0001.jpeg  \n",
            "  inflating: CovidDataset/Train/Normal/NORMAL2-IM-1346-0001.jpeg  \n",
            "  inflating: CovidDataset/Train/Normal/NORMAL2-IM-1345-0001-0001.jpeg  \n",
            "  inflating: CovidDataset/Train/Covid/radiol.2020200274.fig3d.png  \n",
            "  inflating: CovidDataset/Train/Normal/IM-0669-0001.jpeg  \n",
            "  inflating: CovidDataset/Train/Normal/IM-0270-0001.jpeg  \n",
            "  inflating: CovidDataset/Train/Covid/covid-19-pneumonia-28.png  \n",
            "  inflating: CovidDataset/Train/Covid/ryct.2020200034.fig2.jpeg  \n",
            "  inflating: CovidDataset/Train/Normal/NORMAL2-IM-1287-0001.jpeg  \n",
            "  inflating: CovidDataset/Train/Covid/1.CXRCTThoraximagesofCOVID-19fromSingapore.pdf-000-fig1a.png  \n",
            "  inflating: CovidDataset/Train/Normal/NORMAL2-IM-0626-0001.jpeg  \n",
            "  inflating: CovidDataset/Train/Normal/IM-0543-0001.jpeg  \n",
            "  inflating: CovidDataset/Val/Normal/NORMAL2-IM-0857-0001.jpeg  \n",
            "  inflating: CovidDataset/Val/Normal/NORMAL2-IM-0905-0001.jpeg  \n",
            "  inflating: CovidDataset/Train/Covid/1-s2.0-S0929664620300449-gr2_lrg-a.jpg  \n",
            "  inflating: CovidDataset/Val/Covid/16654_1_1.png  \n",
            "  inflating: CovidDataset/Train/Covid/kjr-21-e24-g001-l-a.jpg  \n",
            "  inflating: CovidDataset/Train/Normal/IM-0433-0001.jpeg  \n",
            "  inflating: CovidDataset/Train/Covid/covid-19-pneumonia-58-day-10.jpg  \n",
            "  inflating: CovidDataset/Val/Covid/16654_4_1.jpg  \n",
            "  inflating: CovidDataset/Val/Normal/NORMAL2-IM-0790-0001.jpeg  \n",
            "  inflating: CovidDataset/Train/Normal/NORMAL2-IM-1326-0001.jpeg  \n",
            "  inflating: CovidDataset/Train/Normal/IM-0563-0001.jpeg  \n",
            "  inflating: CovidDataset/Train/Covid/ae6c954c0039de4b5edee53865ffee43-e6c8-0.jpg  \n",
            "  inflating: CovidDataset/Val/Covid/23E99E2E-447C-46E5-8EB2-D35D12473C39.png  \n",
            "  inflating: CovidDataset/Train/Covid/gr1_lrg-a.jpg  \n",
            "  inflating: CovidDataset/Train/Normal/IM-0564-0001.jpeg  \n",
            "  inflating: CovidDataset/Train/Normal/NORMAL2-IM-0499-0001.jpeg  \n",
            "  inflating: CovidDataset/Train/Covid/16663_1_1.jpg  \n",
            "  inflating: CovidDataset/Train/Covid/extubation-8.jpg  \n",
            "  inflating: CovidDataset/Train/Covid/paving.jpg  \n",
            "  inflating: CovidDataset/Train/Normal/IM-0529-0001.jpeg  \n",
            "  inflating: CovidDataset/Train/Normal/IM-0425-0001.jpeg  \n",
            "  inflating: CovidDataset/Train/Normal/IM-0439-0001.jpeg  \n",
            "  inflating: CovidDataset/Train/Normal/IM-0491-0001.jpeg  \n",
            "  inflating: CovidDataset/Train/Normal/IM-0337-0001.jpeg  \n",
            "  inflating: CovidDataset/Train/Covid/all14238-fig-0001-m-b.jpg  \n",
            "  inflating: CovidDataset/Train/Covid/covid-19-infection-exclusive-gastrointestinal-symptoms-pa.png  \n",
            "  inflating: CovidDataset/Train/Normal/NORMAL2-IM-1320-0001.jpeg  \n",
            "  inflating: CovidDataset/Train/Covid/1.CXRCTThoraximagesofCOVID-19fromSingapore.pdf-002-fig3b.png  \n",
            "  inflating: CovidDataset/Train/Normal/NORMAL2-IM-0815-0001.jpeg  \n",
            "  inflating: CovidDataset/Train/Covid/nejmoa2001191_f5-PA.jpeg  \n",
            "  inflating: CovidDataset/Train/Normal/NORMAL2-IM-1336-0001.jpeg  \n",
            "  inflating: CovidDataset/Train/Normal/IM-0369-0001.jpeg  \n",
            "  inflating: CovidDataset/Train/Normal/NORMAL2-IM-1300-0001.jpeg  \n",
            "  inflating: CovidDataset/Train/Normal/NORMAL2-IM-1295-0001.jpeg  \n",
            "  inflating: CovidDataset/Train/Normal/NORMAL2-IM-0518-0001.jpeg  \n",
            "  inflating: CovidDataset/Train/Covid/covid-19-pneumonia-34.png  \n",
            "  inflating: CovidDataset/Train/Normal/IM-0385-0001.jpeg  \n",
            "  inflating: CovidDataset/Train/Covid/F63AB6CE-1968-4154-A70F-913AF154F53D.jpeg  \n",
            "  inflating: CovidDataset/Val/Normal/NORMAL2-IM-0842-0001.jpeg  \n",
            "  inflating: CovidDataset/Val/Normal/NORMAL2-IM-0416-0001-0001.jpeg  \n",
            "  inflating: CovidDataset/Val/Normal/NORMAL2-IM-1275-0001.jpeg  \n",
            "  inflating: CovidDataset/Train/Normal/IM-0467-0001.jpeg  \n",
            "  inflating: CovidDataset/Train/Normal/NORMAL2-IM-1344-0001.jpeg  \n",
            "  inflating: CovidDataset/Train/Normal/IM-0301-0001.jpeg  \n",
            "  inflating: CovidDataset/Train/Normal/IM-0421-0001.jpeg  \n",
            "  inflating: CovidDataset/Train/Covid/ryct.2020200034.fig5-day0.jpeg  \n",
            "  inflating: CovidDataset/Train/Covid/covid-19-pneumonia-58-day-3.jpg  \n",
            "  inflating: CovidDataset/Train/Covid/covid-19-pneumonia-mild.JPG  \n",
            "  inflating: CovidDataset/Val/Normal/NORMAL2-IM-0859-0001.jpeg  \n",
            "  inflating: CovidDataset/Val/Normal/NORMAL2-IM-1237-0001.jpeg  \n",
            "  inflating: CovidDataset/Train/Normal/NORMAL2-IM-1103-0001-0001.jpeg  \n",
            "  inflating: CovidDataset/Train/Covid/1-s2.0-S1684118220300682-main.pdf-002-a2.png  \n",
            "  inflating: CovidDataset/Val/Normal/NORMAL2-IM-0535-0001-0002.jpeg  \n",
            "  inflating: CovidDataset/Train/Covid/1.CXRCTThoraximagesofCOVID-19fromSingapore.pdf-003-fig4b.png  \n",
            "  inflating: CovidDataset/Train/Normal/IM-0461-0001.jpeg  \n",
            "  inflating: CovidDataset/Train/Normal/IM-0372-0001.jpeg  \n",
            "  inflating: CovidDataset/Train/Normal/IM-0666-0001-0001.jpeg  \n",
            "  inflating: CovidDataset/Train/Normal/NORMAL2-IM-0840-0001.jpeg  \n",
            "  inflating: CovidDataset/Train/Covid/ryct.2020200034.fig5-day4.jpeg  \n",
            "  inflating: CovidDataset/Train/Normal/NORMAL2-IM-0798-0001.jpeg  \n",
            "  inflating: CovidDataset/Train/Normal/IM-0351-0001.jpeg  \n",
            "  inflating: CovidDataset/Train/Covid/auntminnie-a-2020_01_28_23_51_6665_2020_01_28_Vietnam_coronavirus.jpeg  \n",
            "  inflating: CovidDataset/Train/Covid/1-s2.0-S1684118220300682-main.pdf-002-a1.png  \n",
            "  inflating: CovidDataset/Val/Normal/NORMAL2-IM-1240-0001.jpeg  \n",
            "  inflating: CovidDataset/Train/Covid/93FE0BB1-022D-4F24-9727-987A07975FFB.jpeg  \n",
            "  inflating: CovidDataset/Train/Covid/16660_1_1.jpg  \n",
            "  inflating: CovidDataset/Train/Covid/figure1-5e71be566aa8714a04de3386-98-left.jpeg  \n",
            "  inflating: CovidDataset/Train/Normal/IM-0703-0001.jpeg  \n",
            "  inflating: CovidDataset/Train/Covid/covid-19-pneumonia-7-PA.jpg  \n",
            "  inflating: CovidDataset/Train/Normal/NORMAL2-IM-1277-0001-0002.jpeg  \n",
            "  inflating: CovidDataset/Train/Covid/8FDE8DBA-CFBD-4B4C-B1A4-6F36A93B7E87.jpeg  \n",
            "  inflating: CovidDataset/Train/Normal/IM-0482-0001.jpeg  \n",
            "  inflating: CovidDataset/Train/Normal/IM-0656-0001-0002.jpeg  \n",
            "  inflating: CovidDataset/Train/Covid/16664_1_1.jpg  \n",
            "  inflating: CovidDataset/Train/Normal/IM-0430-0001.jpeg  \n",
            "  inflating: CovidDataset/Train/Covid/covid-19-pneumonia-67.jpeg  \n",
            "  inflating: CovidDataset/Train/Covid/ciaa199.pdf-001-a.png  \n",
            "  inflating: CovidDataset/Train/Normal/IM-0187-0001.jpeg  \n",
            "  inflating: CovidDataset/Val/Normal/NORMAL2-IM-0652-0001.jpeg  \n",
            "  inflating: CovidDataset/Train/Normal/IM-0691-0001.jpeg  \n",
            "  inflating: CovidDataset/Train/Covid/CD50BA96-6982-4C80-AE7B-5F67ACDBFA56.jpeg  \n",
            "  inflating: CovidDataset/Train/Normal/NORMAL2-IM-0976-0001.jpeg  \n",
            "  inflating: CovidDataset/Train/Covid/covid-19-pneumonia-20-pa-on-admission.jpg  \n",
            "  inflating: CovidDataset/Train/Covid/1-s2.0-S0929664620300449-gr2_lrg-c.jpg  \n",
            "  inflating: CovidDataset/Train/Covid/fff49165-b22d-4bb4-b9d1-d5d62c52436c.annot.original.png  \n",
            "  inflating: CovidDataset/Train/Covid/1.CXRCTThoraximagesofCOVID-19fromSingapore.pdf-002-fig3a.png  \n",
            "  inflating: CovidDataset/Val/Normal/NORMAL2-IM-0395-0001.jpeg  \n",
            "  inflating: CovidDataset/Train/Normal/IM-0182-0001.jpeg  \n",
            "  inflating: CovidDataset/Train/Covid/covid-19-pneumonia-evolution-over-a-week-1-day0-PA.jpg  \n",
            "  inflating: CovidDataset/Val/Normal/NORMAL2-IM-0914-0001.jpeg  \n",
            "  inflating: CovidDataset/Train/Covid/covid-19-pneumonia-30-PA.jpg  \n",
            "  inflating: CovidDataset/Train/Covid/nejmc2001573_f1a.jpeg  \n",
            "  inflating: CovidDataset/Train/Covid/kjr-21-e25-g001-l-a.jpg  \n",
            "  inflating: CovidDataset/Val/Normal/NORMAL2-IM-0873-0001.jpeg  \n",
            "  inflating: CovidDataset/Train/Normal/NORMAL2-IM-0501-0001.jpeg  \n",
            "  inflating: CovidDataset/Train/Normal/IM-0667-0001.jpeg  \n",
            "  inflating: CovidDataset/Train/Normal/IM-0551-0001-0002.jpeg  \n",
            "  inflating: CovidDataset/Train/Normal/IM-0176-0001.jpeg  \n",
            "  inflating: CovidDataset/Train/Covid/lancet-case2b.jpg  \n",
            "  inflating: CovidDataset/Train/Normal/IM-0713-0001.jpeg  \n",
            "  inflating: CovidDataset/Train/Covid/all14238-fig-0001-m-c.jpg  \n",
            "  inflating: CovidDataset/Val/Covid/covid-19-pneumonia-14-PA.png  \n",
            "  inflating: CovidDataset/Val/Normal/NORMAL2-IM-0851-0001-0001.jpeg  \n",
            "  inflating: CovidDataset/Train/Normal/NORMAL2-IM-1154-0001-0002.jpeg  \n",
            "  inflating: CovidDataset/Train/Normal/IM-0619-0001.jpeg  \n",
            "  inflating: CovidDataset/Val/Normal/NORMAL2-IM-0441-0001.jpeg  \n",
            "  inflating: CovidDataset/Val/Normal/NORMAL2-IM-0765-0001.jpeg  \n",
            "  inflating: CovidDataset/Train/Normal/IM-0172-0001.jpeg  \n",
            "  inflating: CovidDataset/Train/Normal/IM-0551-0001-0001.jpeg  \n",
            "  inflating: CovidDataset/Train/Covid/gr1_lrg-b.jpg  \n",
            "  inflating: CovidDataset/Train/Covid/1-s2.0-S0929664620300449-gr2_lrg-b.jpg  \n",
            "  inflating: CovidDataset/Train/Normal/IM-0514-0001.jpeg  \n",
            "  inflating: CovidDataset/Train/Covid/covid-19-pneumonia-20.jpg  \n",
            "  inflating: CovidDataset/Train/Normal/IM-0544-0001.jpeg  \n",
            "  inflating: CovidDataset/Val/Normal/NORMAL2-IM-1022-0001.jpeg  \n",
            "  inflating: CovidDataset/Train/Normal/NORMAL2-IM-0935-0001.jpeg  \n",
            "  inflating: CovidDataset/Train/Covid/covid-19-pneumonia-22-day1-pa.png  \n",
            "  inflating: CovidDataset/Train/Normal/NORMAL2-IM-1288-0001.jpeg  \n",
            "  inflating: CovidDataset/Train/Covid/16669_1_1.jpeg  \n",
            "  inflating: CovidDataset/Train/Covid/nejmoa2001191_f4.jpeg  \n",
            "  inflating: CovidDataset/Val/Normal/NORMAL2-IM-0462-0001.jpeg  \n",
            "  inflating: CovidDataset/Val/Normal/NORMAL2-IM-0894-0001.jpeg  \n",
            "  inflating: CovidDataset/Train/Covid/nejmc2001573_f1b.jpeg  \n",
            "  inflating: CovidDataset/Train/Normal/NORMAL2-IM-1094-0001-0001.jpeg  \n",
            "  inflating: CovidDataset/Train/Normal/IM-0543-0001-0002.jpeg  \n",
            "  inflating: CovidDataset/Train/Covid/16669_3_1.jpeg  \n",
            "  inflating: CovidDataset/Train/Covid/covid-19-pneumonia-58-day-7.jpg  \n",
            "  inflating: CovidDataset/Train/Normal/IM-0536-0001.jpeg  \n",
            "  inflating: CovidDataset/Train/Normal/NORMAL2-IM-1214-0001.jpeg  \n",
            "  inflating: CovidDataset/Train/Covid/AR-2.jpg  \n",
            "  inflating: CovidDataset/Train/Covid/9fdd3c3032296fd04d2cad5d9070d4_jumbo.jpeg  \n",
            "  inflating: CovidDataset/Train/Covid/1B734A89-A1BF-49A8-A1D3-66FAFA4FAC5D.jpeg  \n",
            "  inflating: CovidDataset/Train/Normal/IM-0156-0001.jpeg  \n",
            "  inflating: CovidDataset/Train/Normal/NORMAL2-IM-1111-0001.jpeg  \n",
            "  inflating: CovidDataset/Train/Covid/FE9F9A5D-2830-46F9-851B-1FF4534959BE.jpeg  \n",
            "  inflating: CovidDataset/Train/Normal/IM-0429-0001.jpeg  \n",
            "  inflating: CovidDataset/Train/Covid/covid-19-pneumonia-44-day-0.jpeg  \n",
            "  inflating: CovidDataset/Val/Normal/NORMAL2-IM-0869-0001.jpeg  \n",
            "  inflating: CovidDataset/Train/Covid/figure1-5e75d0940b71e1b702629659-98-right.jpeg  \n",
            "  inflating: CovidDataset/Train/Covid/03BF7561-A9BA-4C3C-B8A0-D3E585F73F3C.jpeg  \n",
            "  inflating: CovidDataset/Train/Covid/ciaa199.pdf-001-c.png  \n",
            "  inflating: CovidDataset/Train/Covid/extubation-4.jpg  \n",
            "  inflating: CovidDataset/Train/Normal/IM-0556-0001.jpeg  \n",
            "  inflating: CovidDataset/Train/Covid/1.CXRCTThoraximagesofCOVID-19fromSingapore.pdf-003-fig4a.png  \n",
            "  inflating: CovidDataset/Train/Covid/covid-19-pneumonia-19.jpg  \n",
            "  inflating: CovidDataset/Train/Normal/IM-0392-0001.jpeg  \n",
            "  inflating: CovidDataset/Train/Normal/IM-0530-0001.jpeg  \n",
            "  inflating: CovidDataset/Train/Normal/IM-0261-0001.jpeg  \n",
            "  inflating: CovidDataset/Train/Covid/1312A392-67A3-4EBF-9319-810CF6DA5EF6.jpeg  \n",
            "  inflating: CovidDataset/Train/Normal/IM-0525-0001.jpeg  \n",
            "  inflating: CovidDataset/Train/Covid/lancet-case2a.jpg  \n",
            "  inflating: CovidDataset/Train/Covid/ciaa199.pdf-001-b.png  \n",
            "  inflating: CovidDataset/Train/Normal/NORMAL2-IM-0941-0001.jpeg  \n",
            "  inflating: CovidDataset/Train/Normal/IM-0488-0001.jpeg  \n",
            "  inflating: CovidDataset/Train/Covid/nejmoa2001191_f3-PA.jpeg  \n",
            "  inflating: CovidDataset/Train/Normal/IM-0447-0001.jpeg  \n",
            "  inflating: CovidDataset/Train/Covid/2966893D-5DDF-4B68-9E2B-4979D5956C8E.jpeg  \n",
            "  inflating: CovidDataset/Train/Covid/ryct.2020200028.fig1a.jpeg  \n",
            "  inflating: CovidDataset/Train/Normal/IM-0688-0001.jpeg  \n",
            "  inflating: CovidDataset/Train/Covid/16660_3_1.jpg  \n",
            "  inflating: CovidDataset/Val/Normal/NORMAL2-IM-1045-0001.jpeg  \n",
            "  inflating: CovidDataset/Train/Normal/NORMAL2-IM-0978-0001.jpeg  \n",
            "  inflating: CovidDataset/Train/Covid/2-chest-filmc.jpg  \n",
            "  inflating: CovidDataset/Val/Normal/NORMAL2-IM-0678-0001.jpeg  \n",
            "  inflating: CovidDataset/Train/Normal/NORMAL2-IM-0573-0001.jpeg  \n",
            "  inflating: CovidDataset/Train/Normal/IM-0365-0001.jpeg  \n",
            "  inflating: CovidDataset/Train/Normal/IM-0300-0001.jpeg  \n",
            "  inflating: CovidDataset/Train/Normal/IM-0242-0001.jpeg  \n",
            "  inflating: CovidDataset/Train/Covid/F4341CE7-73C9-45C6-99C8-8567A5484B63.jpeg  \n",
            "  inflating: CovidDataset/Train/Normal/NORMAL2-IM-1019-0001.jpeg  \n",
            "  inflating: CovidDataset/Train/Covid/01E392EE-69F9-4E33-BFCE-E5C968654078.jpeg  \n",
            "  inflating: CovidDataset/Train/Normal/IM-0648-0001.jpeg  \n",
            "  inflating: CovidDataset/Val/Normal/NORMAL2-IM-0408-0001.jpeg  \n",
            "  inflating: CovidDataset/Train/Covid/yxppt-2020-02-19_00-51-27_287214-day8.jpg  \n",
            "  inflating: CovidDataset/Train/Normal/IM-0635-0001.jpeg  \n",
            "  inflating: CovidDataset/Train/Covid/radiol.2020200490.fig3.jpeg  \n",
            "  inflating: CovidDataset/Val/Normal/NORMAL2-IM-1060-0001.jpeg  \n"
          ],
          "name": "stdout"
        }
      ]
    },
    {
      "cell_type": "code",
      "metadata": {
        "id": "EHy7jOsEEWiI"
      },
      "source": [
        "yTRAIN_PATH = \"CovidDataset/Train\"\n",
        "VAL_PATH = \"CovidDataset/Val\""
      ],
      "execution_count": null,
      "outputs": []
    },
    {
      "cell_type": "code",
      "metadata": {
        "id": "PUEFJmfhFO4O"
      },
      "source": [
        "import numpy as np\n",
        "import matplotlib.pyplot as plt\n",
        "import keras\n",
        "from keras.layers import *\n",
        "from keras.models import *\n",
        "from keras.preprocessing import image"
      ],
      "execution_count": null,
      "outputs": []
    },
    {
      "cell_type": "code",
      "metadata": {
        "id": "Ljt4R8nOJaar"
      },
      "source": [
        "train_data = image.ImageDataGenerator(\n",
        "    rescale = 1./255,\n",
        "    shear_range = 0.2,\n",
        "    zoom_range = 0.2,\n",
        "    horizontal_flip = True\n",
        ")\n",
        "test_dataset = image.ImageDataGenerator(\n",
        "    rescale = 1./255\n",
        ")"
      ],
      "execution_count": null,
      "outputs": []
    },
    {
      "cell_type": "code",
      "metadata": {
        "id": "3vsDaQiPFefV"
      },
      "source": [
        "from tensorflow.keras.optimizers import Adam\n",
        "from tensorflow.keras.optimizers import SGD\n",
        "# from tensorflow.keras.applications.vgg16 import VGG16\n",
        "# from tensorflow.keras import layers\n",
        "\n",
        "# base_model = VGG16(input_shape = (224, 224, 3), # Shape of our images\n",
        "# include_top = False, # Leave out the last fully connected layer\n",
        "# weights = 'imagenet')\n",
        "\n",
        "\n",
        "# for layer in base_model.layers:\n",
        "#     layer.trainable = False\n",
        "\n",
        "# # Flatten the output layer to 1 dimension\n",
        "# x = layers.Flatten()(base_model.output)\n",
        "\n",
        "# # Add a fully connected layer with 512 hidden units and ReLU activation\n",
        "# x = layers.Dense(512, activation='relu')(x)\n",
        "\n",
        "# # Add a dropout rate of 0.5\n",
        "# x = layers.Dropout(0.5)(x)\n",
        "\n",
        "# # Add a final sigmoid layer for classification\n",
        "# x = layers.Dense(1, activation='sigmoid')(x)\n",
        "\n",
        "# model = keras.models.Model(base_model.input, x)\n",
        "# adam = Adam(lr=0.0001)\n",
        "\n",
        "model = Sequential()\n",
        "model.add(Conv2D(32,kernel_size=(3,3), activation='relu', input_shape=(224,224,3)))\n",
        "model.add(Conv2D(64, (3,3), activation='relu'))\n",
        "model.add(MaxPooling2D(pool_size=(2,2)))\n",
        "model.add(Dropout(0.25))\n",
        "\n",
        "model.add(Conv2D(64, (3,3), activation='relu'))\n",
        "model.add(MaxPooling2D(pool_size=(2,2)))\n",
        "model.add(Dropout(0.25))\n",
        "\n",
        "model.add(Conv2D(128, (3,3), activation='relu'))\n",
        "model.add(MaxPooling2D(pool_size=(2,2)))\n",
        "model.add(Dropout(0.25))\n",
        "\n",
        "model.add(Flatten())\n",
        "model.add(Dense(64, activation='relu'))\n",
        "model.add(Dropout(0.5))\n",
        "model.add(Dense(1, activation='sigmoid'))\n",
        "\n",
        "model.compile(loss=keras.losses.binary_crossentropy, optimizer='adam', metrics=['accuracy'])"
      ],
      "execution_count": null,
      "outputs": []
    },
    {
      "cell_type": "code",
      "metadata": {
        "id": "G9oDeVyjGv2P",
        "colab": {
          "base_uri": "https://localhost:8080/"
        },
        "outputId": "2466e46f-98db-451d-eb94-0fe3221277ef"
      },
      "source": [
        "model.summary()"
      ],
      "execution_count": null,
      "outputs": [
        {
          "output_type": "stream",
          "text": [
            "Model: \"sequential_16\"\n",
            "_________________________________________________________________\n",
            "Layer (type)                 Output Shape              Param #   \n",
            "=================================================================\n",
            "conv2d_70 (Conv2D)           (None, 222, 222, 32)      896       \n",
            "_________________________________________________________________\n",
            "conv2d_71 (Conv2D)           (None, 220, 220, 64)      18496     \n",
            "_________________________________________________________________\n",
            "max_pooling2d_52 (MaxPooling (None, 110, 110, 64)      0         \n",
            "_________________________________________________________________\n",
            "dropout_70 (Dropout)         (None, 110, 110, 64)      0         \n",
            "_________________________________________________________________\n",
            "conv2d_72 (Conv2D)           (None, 108, 108, 64)      36928     \n",
            "_________________________________________________________________\n",
            "max_pooling2d_53 (MaxPooling (None, 54, 54, 64)        0         \n",
            "_________________________________________________________________\n",
            "dropout_71 (Dropout)         (None, 54, 54, 64)        0         \n",
            "_________________________________________________________________\n",
            "conv2d_73 (Conv2D)           (None, 52, 52, 128)       73856     \n",
            "_________________________________________________________________\n",
            "max_pooling2d_54 (MaxPooling (None, 26, 26, 128)       0         \n",
            "_________________________________________________________________\n",
            "dropout_72 (Dropout)         (None, 26, 26, 128)       0         \n",
            "_________________________________________________________________\n",
            "flatten_17 (Flatten)         (None, 86528)             0         \n",
            "_________________________________________________________________\n",
            "dense_35 (Dense)             (None, 64)                5537856   \n",
            "_________________________________________________________________\n",
            "dropout_73 (Dropout)         (None, 64)                0         \n",
            "_________________________________________________________________\n",
            "dense_36 (Dense)             (None, 1)                 65        \n",
            "=================================================================\n",
            "Total params: 5,668,097\n",
            "Trainable params: 5,668,097\n",
            "Non-trainable params: 0\n",
            "_________________________________________________________________\n"
          ],
          "name": "stdout"
        }
      ]
    },
    {
      "cell_type": "code",
      "metadata": {
        "id": "Jwz4Dif5KdKy",
        "colab": {
          "base_uri": "https://localhost:8080/"
        },
        "outputId": "5000df3f-7b68-4c27-d18a-3264c36d0cbe"
      },
      "source": [
        "train_generator = train_data.flow_from_directory(\n",
        "    'CovidDataset/Train',\n",
        "    target_size = (224,224),\n",
        "    batch_size = 32,\n",
        "    class_mode = 'binary'\n",
        ")"
      ],
      "execution_count": null,
      "outputs": [
        {
          "output_type": "stream",
          "text": [
            "Found 224 images belonging to 2 classes.\n"
          ],
          "name": "stdout"
        }
      ]
    },
    {
      "cell_type": "code",
      "metadata": {
        "id": "pJHn43wULGbs",
        "colab": {
          "base_uri": "https://localhost:8080/"
        },
        "outputId": "5857b6e9-869e-46b1-c7f5-27c6a1415b34"
      },
      "source": [
        "train_generator.class_indices"
      ],
      "execution_count": null,
      "outputs": [
        {
          "output_type": "execute_result",
          "data": {
            "text/plain": [
              "{'Covid': 0, 'Normal': 1}"
            ]
          },
          "metadata": {
            "tags": []
          },
          "execution_count": 217
        }
      ]
    },
    {
      "cell_type": "code",
      "metadata": {
        "id": "3TsoODluLkqQ",
        "colab": {
          "base_uri": "https://localhost:8080/"
        },
        "outputId": "105636a3-79b6-475f-eeeb-6694c35ec3ff"
      },
      "source": [
        "validation_generator = test_dataset.flow_from_directory(\n",
        "    'CovidDataset/Val',\n",
        "    target_size = (224,224),\n",
        "    batch_size = 32,\n",
        "    class_mode = 'binary',\n",
        ")"
      ],
      "execution_count": null,
      "outputs": [
        {
          "output_type": "stream",
          "text": [
            "Found 60 images belonging to 2 classes.\n"
          ],
          "name": "stdout"
        }
      ]
    },
    {
      "cell_type": "code",
      "metadata": {
        "id": "nR6IbZNCZJrA"
      },
      "source": [
        "from tensorflow.keras import backend as K\n",
        "lr = 0.001\n",
        "\n",
        "\n",
        "class printlearningrate(keras.callbacks.Callback):\n",
        "    def on_epoch_end(self, epoch, logs={}):\n",
        "        optimizer = self.model.optimizer\n",
        "        lr = K.eval(optimizer.lr)\n",
        "        Epoch_count = epoch + 1\n",
        "        print('\\n', \"Epoch:\", Epoch_count, ', LR: {:.3f}'.format(lr))\n",
        "\n",
        "printlr = printlearningrate() \n",
        "\n",
        "def scheduler(epoch):\n",
        "  optimizer = model.optimizer\n",
        "  return K.eval(optimizer.lr + 0.005)\n",
        "\n",
        "updatelr = keras.callbacks.LearningRateScheduler(scheduler)\n",
        "\n",
        "\n"
      ],
      "execution_count": null,
      "outputs": []
    },
    {
      "cell_type": "code",
      "metadata": {
        "id": "pgKi8ZxLMEQx",
        "colab": {
          "base_uri": "https://localhost:8080/"
        },
        "outputId": "ca4c906a-0538-418a-d171-b28864a07425"
      },
      "source": [
        "\n",
        "# hist = model.fit_generator(\n",
        "#     train_generator,\n",
        "#     steps_per_epoch=6,\n",
        "#     epochs = 50,\n",
        "#     validation_data=validation_generator,\n",
        "#     validation_steps=2,\n",
        "#     callbacks = [printlr,updatelr]\n",
        "# )\n",
        "VAL_ACCURACY_THRESHOLD = 0.95\n",
        "ACCURACY_THRESHOLD = 0.91\n",
        "class myCallback(keras.callbacks.Callback): \n",
        "    def on_epoch_end(self, epoch, logs={}): \n",
        "        if(logs.get('accuracy') > ACCURACY_THRESHOLD and logs.get('val_accuracy') > ACCURACY_THRESHOLD):   \n",
        "          print(\"\\nReached %2.2f%% accuracy, so stopping training!!\" %(ACCURACY_THRESHOLD*100))   \n",
        "          self.model.stop_training = True\n",
        "\n",
        "callbacks = myCallback()\n",
        "\n",
        "hist = model.fit(train_generator,\n",
        "                 steps_per_epoch = 6, \n",
        "                 epochs = 50,\n",
        "                 validation_data = validation_generator, \n",
        "                 validation_steps=2\n",
        "                 )"
      ],
      "execution_count": null,
      "outputs": [
        {
          "output_type": "stream",
          "text": [
            "Epoch 1/50\n",
            "6/6 [==============================] - 9s 2s/step - loss: 0.6054 - accuracy: 0.6510 - val_loss: 0.5128 - val_accuracy: 0.8167\n",
            "Epoch 2/50\n",
            "6/6 [==============================] - 7s 1s/step - loss: 0.6091 - accuracy: 0.8073 - val_loss: 0.5225 - val_accuracy: 0.9333\n",
            "Epoch 3/50\n",
            "6/6 [==============================] - 8s 1s/step - loss: 0.5533 - accuracy: 0.9219 - val_loss: 0.4331 - val_accuracy: 0.9333\n",
            "Epoch 4/50\n",
            "6/6 [==============================] - 8s 1s/step - loss: 0.5003 - accuracy: 0.8281 - val_loss: 0.4042 - val_accuracy: 0.8333\n",
            "Epoch 5/50\n",
            "6/6 [==============================] - 8s 1s/step - loss: 0.5634 - accuracy: 0.8229 - val_loss: 0.4350 - val_accuracy: 0.7667\n",
            "Epoch 6/50\n",
            "6/6 [==============================] - 8s 1s/step - loss: 0.4397 - accuracy: 0.8646 - val_loss: 0.4243 - val_accuracy: 0.8500\n",
            "Epoch 7/50\n",
            "6/6 [==============================] - 8s 1s/step - loss: 0.5414 - accuracy: 0.7917 - val_loss: 0.4522 - val_accuracy: 0.8667\n",
            "Epoch 8/50\n",
            "6/6 [==============================] - 7s 1s/step - loss: 0.5117 - accuracy: 0.8177 - val_loss: 0.4405 - val_accuracy: 0.8667\n",
            "Epoch 9/50\n",
            "6/6 [==============================] - 8s 1s/step - loss: 0.5334 - accuracy: 0.8281 - val_loss: 0.4043 - val_accuracy: 0.9667\n",
            "Epoch 10/50\n",
            "6/6 [==============================] - 7s 1s/step - loss: 0.5755 - accuracy: 0.8438 - val_loss: 0.4816 - val_accuracy: 0.9667\n",
            "Epoch 11/50\n",
            "6/6 [==============================] - 8s 1s/step - loss: 0.4984 - accuracy: 0.8125 - val_loss: 0.4065 - val_accuracy: 0.8667\n",
            "Epoch 12/50\n",
            "6/6 [==============================] - 8s 1s/step - loss: 0.4432 - accuracy: 0.8281 - val_loss: 0.4112 - val_accuracy: 0.9667\n",
            "Epoch 13/50\n",
            "6/6 [==============================] - 8s 1s/step - loss: 0.4906 - accuracy: 0.8802 - val_loss: 0.4202 - val_accuracy: 0.9167\n",
            "Epoch 14/50\n",
            "6/6 [==============================] - 8s 1s/step - loss: 0.4696 - accuracy: 0.8385 - val_loss: 0.3781 - val_accuracy: 0.8833\n",
            "Epoch 15/50\n",
            "6/6 [==============================] - 8s 1s/step - loss: 0.4199 - accuracy: 0.8594 - val_loss: 0.3789 - val_accuracy: 0.9667\n",
            "Epoch 16/50\n",
            "6/6 [==============================] - 8s 1s/step - loss: 0.4565 - accuracy: 0.8542 - val_loss: 0.3731 - val_accuracy: 0.9333\n",
            "Epoch 17/50\n",
            "6/6 [==============================] - 8s 1s/step - loss: 0.5374 - accuracy: 0.8594 - val_loss: 0.4131 - val_accuracy: 0.9500\n",
            "Epoch 18/50\n",
            "6/6 [==============================] - 8s 1s/step - loss: 0.5122 - accuracy: 0.8750 - val_loss: 0.3736 - val_accuracy: 0.9667\n",
            "Epoch 19/50\n",
            "6/6 [==============================] - 8s 1s/step - loss: 0.4641 - accuracy: 0.8490 - val_loss: 0.3766 - val_accuracy: 0.9833\n",
            "Epoch 20/50\n",
            "6/6 [==============================] - 8s 1s/step - loss: 0.4875 - accuracy: 0.9062 - val_loss: 0.3721 - val_accuracy: 0.9667\n",
            "Epoch 21/50\n",
            "6/6 [==============================] - 8s 1s/step - loss: 0.3721 - accuracy: 0.9271 - val_loss: 0.3610 - val_accuracy: 0.9833\n",
            "Epoch 22/50\n",
            "6/6 [==============================] - 8s 1s/step - loss: 0.4876 - accuracy: 0.9219 - val_loss: 0.3703 - val_accuracy: 0.9667\n",
            "Epoch 23/50\n",
            "6/6 [==============================] - 8s 1s/step - loss: 0.3991 - accuracy: 0.8958 - val_loss: 0.3565 - val_accuracy: 0.9500\n",
            "Epoch 24/50\n",
            "6/6 [==============================] - 8s 1s/step - loss: 0.5457 - accuracy: 0.8958 - val_loss: 0.3693 - val_accuracy: 0.9667\n",
            "Epoch 25/50\n",
            "6/6 [==============================] - 8s 1s/step - loss: 0.4183 - accuracy: 0.9010 - val_loss: 0.3630 - val_accuracy: 0.9667\n",
            "Epoch 26/50\n",
            "6/6 [==============================] - 8s 1s/step - loss: 0.5030 - accuracy: 0.8594 - val_loss: 0.3587 - val_accuracy: 0.9667\n",
            "Epoch 27/50\n",
            "6/6 [==============================] - 8s 1s/step - loss: 0.5312 - accuracy: 0.8490 - val_loss: 0.3588 - val_accuracy: 0.9667\n",
            "Epoch 28/50\n",
            "6/6 [==============================] - 8s 1s/step - loss: 0.5259 - accuracy: 0.8281 - val_loss: 0.4470 - val_accuracy: 0.9667\n",
            "Epoch 29/50\n",
            "6/6 [==============================] - 8s 1s/step - loss: 0.4343 - accuracy: 0.8646 - val_loss: 0.3560 - val_accuracy: 0.9500\n",
            "Epoch 30/50\n",
            "6/6 [==============================] - 8s 1s/step - loss: 0.4874 - accuracy: 0.8594 - val_loss: 0.3588 - val_accuracy: 0.9500\n",
            "Epoch 31/50\n",
            "6/6 [==============================] - 8s 1s/step - loss: 0.3824 - accuracy: 0.8854 - val_loss: 0.3584 - val_accuracy: 0.9833\n",
            "Epoch 32/50\n",
            "6/6 [==============================] - 8s 1s/step - loss: 0.4772 - accuracy: 0.9375 - val_loss: 0.3563 - val_accuracy: 0.9500\n",
            "Epoch 33/50\n",
            "6/6 [==============================] - 7s 1s/step - loss: 0.4485 - accuracy: 0.9271 - val_loss: 0.3512 - val_accuracy: 0.9500\n",
            "Epoch 34/50\n",
            "6/6 [==============================] - 8s 1s/step - loss: 0.4567 - accuracy: 0.9271 - val_loss: 0.3490 - val_accuracy: 0.9833\n",
            "Epoch 35/50\n",
            "6/6 [==============================] - 8s 1s/step - loss: 0.4772 - accuracy: 0.8958 - val_loss: 0.3489 - val_accuracy: 0.9667\n",
            "Epoch 36/50\n",
            "6/6 [==============================] - 8s 1s/step - loss: 0.3519 - accuracy: 0.9219 - val_loss: 0.3521 - val_accuracy: 0.9333\n",
            "Epoch 37/50\n",
            "6/6 [==============================] - 8s 1s/step - loss: 0.4276 - accuracy: 0.9271 - val_loss: 0.3527 - val_accuracy: 0.9500\n",
            "Epoch 38/50\n",
            "6/6 [==============================] - 8s 1s/step - loss: 0.4318 - accuracy: 0.9479 - val_loss: 0.3524 - val_accuracy: 0.9667\n",
            "Epoch 39/50\n",
            "6/6 [==============================] - 8s 1s/step - loss: 0.3983 - accuracy: 0.9167 - val_loss: 0.3463 - val_accuracy: 0.9667\n",
            "Epoch 40/50\n",
            "6/6 [==============================] - 8s 1s/step - loss: 0.3729 - accuracy: 0.9167 - val_loss: 0.3449 - val_accuracy: 0.9667\n",
            "Epoch 41/50\n",
            "6/6 [==============================] - 7s 1s/step - loss: 0.4089 - accuracy: 0.8646 - val_loss: 0.3560 - val_accuracy: 0.9667\n",
            "Epoch 42/50\n",
            "6/6 [==============================] - 8s 1s/step - loss: 0.4636 - accuracy: 0.9219 - val_loss: 0.3507 - val_accuracy: 0.9667\n",
            "Epoch 43/50\n",
            "6/6 [==============================] - 7s 1s/step - loss: 0.3639 - accuracy: 0.8958 - val_loss: 0.3410 - val_accuracy: 1.0000\n",
            "Epoch 44/50\n",
            "6/6 [==============================] - 8s 1s/step - loss: 0.4669 - accuracy: 0.8958 - val_loss: 0.3435 - val_accuracy: 0.9500\n",
            "Epoch 45/50\n",
            "6/6 [==============================] - 8s 1s/step - loss: 0.4628 - accuracy: 0.9271 - val_loss: 0.3466 - val_accuracy: 0.9667\n",
            "Epoch 46/50\n",
            "6/6 [==============================] - 8s 1s/step - loss: 0.4291 - accuracy: 0.9427 - val_loss: 0.3411 - val_accuracy: 0.9667\n",
            "Epoch 47/50\n",
            "6/6 [==============================] - 8s 1s/step - loss: 0.4138 - accuracy: 0.8906 - val_loss: 0.3406 - val_accuracy: 0.9667\n",
            "Epoch 48/50\n",
            "6/6 [==============================] - 8s 1s/step - loss: 0.3839 - accuracy: 0.9167 - val_loss: 0.3399 - val_accuracy: 0.9667\n",
            "Epoch 49/50\n",
            "6/6 [==============================] - 8s 1s/step - loss: 0.3385 - accuracy: 0.9115 - val_loss: 0.3394 - val_accuracy: 0.9667\n",
            "Epoch 50/50\n",
            "6/6 [==============================] - 8s 1s/step - loss: 0.3629 - accuracy: 0.8958 - val_loss: 0.3372 - val_accuracy: 0.9667\n"
          ],
          "name": "stdout"
        }
      ]
    },
    {
      "cell_type": "code",
      "metadata": {
        "id": "Go40gP7cT35L",
        "colab": {
          "base_uri": "https://localhost:8080/"
        },
        "outputId": "1006d466-475f-4330-949c-4701a45622c3"
      },
      "source": [
        "model.save('final_model.model')"
      ],
      "execution_count": null,
      "outputs": [
        {
          "output_type": "stream",
          "text": [
            "INFO:tensorflow:Assets written to: final_model.model/assets\n"
          ],
          "name": "stdout"
        }
      ]
    },
    {
      "cell_type": "code",
      "metadata": {
        "id": "P8JnEzs2XS1q"
      },
      "source": [
        "!pip install skimage\n",
        "import cv2\n",
        "import tensorflow as tf\n",
        "import urllib\n",
        "import numpy as np\n",
        "from skimage.color import gray2rgb\n",
        "from skimage import io\n",
        "import requests\n",
        "CATEGORIES = [\"covid positive\", \"not covid positive\"]\n",
        "\n",
        "from PIL import Image\n",
        "\n",
        "def prepare(filepath):\n",
        "  IMG_SIZE = 224\n",
        "  resp = urllib.request.urlopen(filepath)\n",
        "  respl = resp.read()\n",
        "  arr = np.asarray(bytearray(respl), dtype=np.uint8)\n",
        "  new_array = cv2.resize(arr, (IMG_SIZE, IMG_SIZE))\n",
        "  stacked_img = np.stack((new_array,)*3, axis=-1)\n",
        "  print(stacked_img.shape)\n",
        "  if len(new_array.shape) > 2 and new_array.shape[2] == 4:\n",
        "    new_array = cv2.cvtColor(new_array, cv2.COLOR_BGRA2BGR)\n",
        "\n",
        "  return stacked_img.reshape(-1, IMG_SIZE, IMG_SIZE, 3)\n",
        "new_model = tf.keras.models.load_model(\"final_model.model\")\n",
        "\n",
        "prediction = new_model.predict([prepare('c19.jpg')])\n",
        "print(CATEGORIES[int(prediction[0][0])])"
      ],
      "execution_count": null,
      "outputs": []
    },
    {
      "cell_type": "code",
      "metadata": {
        "id": "d3Xl76DGkBKZ",
        "colab": {
          "base_uri": "https://localhost:8080/"
        },
        "outputId": "f9b80f93-ae57-446f-f18a-d1bb2827e2c8"
      },
      "source": [
        "import cv2\n",
        "import tensorflow as tf\n",
        "import urllib\n",
        "import numpy as np\n",
        "from skimage.color import gray2rgb\n",
        "from skimage import io\n",
        "import requests\n",
        "from io import StringIO, BytesIO\n",
        "from imread import imread_from_blob\n",
        "CATEGORIES = [\"covid positive\", \"not covid positive\"]\n",
        "\n",
        "from PIL import Image\n",
        "\n",
        "def prepare2(filepath):\n",
        "  IMG_SIZE = 224\n",
        "  image = io.imread(filepath)\n",
        "  image = np.asarray(image, dtype=\"uint8\")\n",
        "  new_array = cv2.resize(image, (IMG_SIZE, IMG_SIZE))\n",
        "  \n",
        "  print(new_array.shape)\n",
        "  if len(new_array.shape) > 2 and image.shape[2] == 4:\n",
        "    new_array = cv2.cvtColor(new_array, cv2.COLOR_BGRA2RGB)\n",
        "  img = Image.fromarray(new_array, 'RGB')\n",
        "  img.save(\"testfile.png\")\n",
        "  img.show()\n",
        "  return new_array.reshape(-1, IMG_SIZE, IMG_SIZE, 3)\n",
        "new_model = tf.keras.models.load_model(\"final_model.model\")\n",
        "\n",
        "prediction = new_model.predict([prepare2('https://lh3.googleusercontent.com/proxy/KR_kqttQM4ECbPE-4RmyWdSHADTVSIEqBdkytcNnvoQbQhQP6HxoRST0P3QtDlRZ5Ja2kd9TNv0gllyIYB3rWuOvibJALIXn4I8_k5f4MaVrp1bKFIxznTm1xFENYIo580DRaw')])\n",
        "print(CATEGORIES[int(prediction[0][0])])"
      ],
      "execution_count": null,
      "outputs": [
        {
          "output_type": "stream",
          "text": [
            "(224, 224, 3)\n",
            "WARNING:tensorflow:11 out of the last 11 calls to <function Model.make_predict_function.<locals>.predict_function at 0x7fa99a21e730> triggered tf.function retracing. Tracing is expensive and the excessive number of tracings could be due to (1) creating @tf.function repeatedly in a loop, (2) passing tensors with different shapes, (3) passing Python objects instead of tensors. For (1), please define your @tf.function outside of the loop. For (2), @tf.function has experimental_relax_shapes=True option that relaxes argument shapes that can avoid unnecessary retracing. For (3), please refer to https://www.tensorflow.org/tutorials/customization/performance#python_or_tensor_args and https://www.tensorflow.org/api_docs/python/tf/function for  more details.\n",
            "covid positive\n"
          ],
          "name": "stdout"
        }
      ]
    },
    {
      "cell_type": "code",
      "metadata": {
        "id": "-yL7NNo2auK0",
        "colab": {
          "base_uri": "https://localhost:8080/"
        },
        "outputId": "97efd223-c375-47d3-c674-cd3e3536f417"
      },
      "source": [
        "!zip -r /content/final_model.model.zip /content/final_model.model/"
      ],
      "execution_count": null,
      "outputs": [
        {
          "output_type": "stream",
          "text": [
            "  adding: content/final_model.model/ (stored 0%)\n",
            "  adding: content/final_model.model/saved_model.pb (deflated 89%)\n",
            "  adding: content/final_model.model/assets/ (stored 0%)\n",
            "  adding: content/final_model.model/variables/ (stored 0%)\n",
            "  adding: content/final_model.model/variables/variables.data-00000-of-00001 (deflated 10%)\n",
            "  adding: content/final_model.model/variables/variables.index (deflated 68%)\n"
          ],
          "name": "stdout"
        }
      ]
    },
    {
      "cell_type": "code",
      "metadata": {
        "id": "qhhzol_ej4dJ"
      },
      "source": [
        ""
      ],
      "execution_count": null,
      "outputs": []
    }
  ]
}